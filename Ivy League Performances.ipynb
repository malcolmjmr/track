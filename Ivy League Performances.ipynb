{
 "cells": [
  {
   "cell_type": "markdown",
   "metadata": {},
   "source": [
    "# Ivy League Performances \n",
    "\n",
    "This notebook pulls data from [DirectAthletics](http://directathletics.com) to get the top performances for each athlete and simulates a conference championship using athletes' best marks from the current and/or previous years. \n",
    "\n",
    "**Import dependencies**"
   ]
  },
  {
   "cell_type": "code",
   "execution_count": 450,
   "metadata": {
    "collapsed": false
   },
   "outputs": [],
   "source": [
    "from direct_athletics import *\n",
    "from team_performances import *"
   ]
  },
  {
   "cell_type": "markdown",
   "metadata": {},
   "source": [
    "## Get Best Performances\n",
    "For each athlete on each team we get the best performances for that athlete. (This will take several minutes, as the program must fetch data from each individual athletes performance page on [Direct Athletics](https://directathletics)."
   ]
  },
  {
   "cell_type": "code",
   "execution_count": 453,
   "metadata": {
    "collapsed": false
   },
   "outputs": [
    {
     "name": "stdout",
     "output_type": "stream",
     "text": [
      "Getting perfromance information for Michael Yuan.\n",
      "97.8260869565% done with entire team.\n"
     ]
    }
   ],
   "source": [
    "initial_team_id = 1166 # Havard is the first Ivy league team in DA database\n",
    "\n",
    "# Get the team ids of the 8 Ivy League teams\n",
    "team_ids = range(initial_team_id,initial_team_id+(2*8),2)\n",
    "\n",
    "# Get top performances for each athlete on each team (uncomment the next line to get the performance data)\n",
    "# team_performances = get_team_performances(team_ids)"
   ]
  },
  {
   "cell_type": "code",
   "execution_count": 452,
   "metadata": {
    "collapsed": false
   },
   "outputs": [],
   "source": [
    "del team_performances['Harvard']['Safo_Elliot']"
   ]
  },
  {
   "cell_type": "code",
   "execution_count": null,
   "metadata": {
    "collapsed": true
   },
   "outputs": [],
   "source": []
  }
 ],
 "metadata": {
  "kernelspec": {
   "display_name": "Python 2",
   "language": "python",
   "name": "python2"
  },
  "language_info": {
   "codemirror_mode": {
    "name": "ipython",
    "version": 2
   },
   "file_extension": ".py",
   "mimetype": "text/x-python",
   "name": "python",
   "nbconvert_exporter": "python",
   "pygments_lexer": "ipython2",
   "version": "2.7.10"
  }
 },
 "nbformat": 4,
 "nbformat_minor": 0
}
